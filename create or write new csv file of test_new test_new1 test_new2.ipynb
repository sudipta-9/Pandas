{
 "cells": [
  {
   "cell_type": "markdown",
   "id": "85ec4370",
   "metadata": {},
   "source": [
    "# Create/Write CSV file"
   ]
  },
  {
   "cell_type": "code",
   "execution_count": 2,
   "id": "ac4ca2e4",
   "metadata": {},
   "outputs": [
    {
     "name": "stdout",
     "output_type": "stream",
     "text": [
      "   A   B   C\n",
      "0  1   6  11\n",
      "1  2   7  12\n",
      "2  3   8  13\n",
      "3  4   9  14\n",
      "4  5  10  15\n"
     ]
    }
   ],
   "source": [
    "import pandas as pd\n",
    "dis = {\"A\":[1,2,3,4,5],\"B\":[6,7,8,9,10],\"C\":[11,12,13,14,15]}\n",
    "d = pd.DataFrame(dis)\n",
    "print(d)\n",
    "d.to_csv(\"Test_new.csv\")"
   ]
  },
  {
   "cell_type": "code",
   "execution_count": 7,
   "id": "845e7a3f",
   "metadata": {},
   "outputs": [
    {
     "name": "stdout",
     "output_type": "stream",
     "text": [
      "   A   B   C\n",
      "0  1   6  11\n",
      "1  2   7  12\n",
      "2  3   8  13\n",
      "3  4   9  14\n",
      "4  5  10  15\n"
     ]
    }
   ],
   "source": [
    "d = pd.DataFrame(dis)\n",
    "print(d)\n",
    "d.to_csv(\"Test_new1.csv\",index=False)    #Remove the index no"
   ]
  },
  {
   "cell_type": "code",
   "execution_count": 6,
   "id": "dce5ad31",
   "metadata": {},
   "outputs": [
    {
     "name": "stdout",
     "output_type": "stream",
     "text": [
      "   A   B   C\n",
      "0  1   6  11\n",
      "1  2   7  12\n",
      "2  3   8  13\n",
      "3  4   9  14\n",
      "4  5  10  15\n"
     ]
    }
   ],
   "source": [
    "d = pd.DataFrame(dis)\n",
    "print(d)\n",
    "d.to_csv(\"Test_new2.csv\",index=False,header=[\"a\",\"b\",\"c\"])     #Change the header name"
   ]
  },
  {
   "cell_type": "code",
   "execution_count": null,
   "id": "c485b3e6",
   "metadata": {},
   "outputs": [],
   "source": []
  }
 ],
 "metadata": {
  "kernelspec": {
   "display_name": "Python 3 (ipykernel)",
   "language": "python",
   "name": "python3"
  },
  "language_info": {
   "codemirror_mode": {
    "name": "ipython",
    "version": 3
   },
   "file_extension": ".py",
   "mimetype": "text/x-python",
   "name": "python",
   "nbconvert_exporter": "python",
   "pygments_lexer": "ipython3",
   "version": "3.11.7"
  }
 },
 "nbformat": 4,
 "nbformat_minor": 5
}
