{
 "cells": [
  {
   "cell_type": "markdown",
   "id": "2e6535e7",
   "metadata": {},
   "source": [
    "# Series Data Structure"
   ]
  },
  {
   "cell_type": "code",
   "execution_count": 5,
   "id": "2a56896a",
   "metadata": {},
   "outputs": [
    {
     "name": "stdout",
     "output_type": "stream",
     "text": [
      "0    1\n",
      "1    2\n",
      "2    3\n",
      "3    4\n",
      "4    5\n",
      "5    6\n",
      "dtype: int64\n",
      "<class 'pandas.core.series.Series'>\n",
      "3\n"
     ]
    }
   ],
   "source": [
    "import pandas as pd\n",
    "x = [1,2,3,4,5,6]\n",
    "var = pd.Series(x)\n",
    "print(var)\n",
    "print(type(var))\n",
    "print(var[2])"
   ]
  },
  {
   "cell_type": "code",
   "execution_count": 9,
   "id": "caebda93",
   "metadata": {},
   "outputs": [
    {
     "name": "stdout",
     "output_type": "stream",
     "text": [
      "a    1.0\n",
      "b    2.0\n",
      "c    3.0\n",
      "d    4.0\n",
      "Name: Python, dtype: float64\n"
     ]
    }
   ],
   "source": [
    "x = [1,2,3,4]\n",
    "var = pd.Series(x,index=['a','b','c','d'],dtype=\"float\",name=\"Python\")\n",
    "print(var)"
   ]
  },
  {
   "cell_type": "code",
   "execution_count": 12,
   "id": "f434dc2d",
   "metadata": {},
   "outputs": [
    {
     "name": "stdout",
     "output_type": "stream",
     "text": [
      "name    [python, c, c++, java]\n",
      "por           [12, 13, 14, 15]\n",
      "rank              [1, 4, 3, 2]\n",
      "dtype: object\n"
     ]
    }
   ],
   "source": [
    "dic = {\"name\":['python','c','c++','java'],\"por\":[12,13,14,15],\"rank\":[1,4,3,2]}\n",
    "var = pd.Series(dic)\n",
    "print(var)"
   ]
  },
  {
   "cell_type": "code",
   "execution_count": 15,
   "id": "94c148ed",
   "metadata": {},
   "outputs": [
    {
     "name": "stdout",
     "output_type": "stream",
     "text": [
      "0    12\n",
      "dtype: int64\n",
      "1    12\n",
      "2    12\n",
      "3    12\n",
      "4    12\n",
      "dtype: int64\n"
     ]
    }
   ],
   "source": [
    "s1 = pd.Series(12)\n",
    "s2 = pd.Series(12,index=[1,2,3,4])\n",
    "print(s1)\n",
    "print(s2)"
   ]
  },
  {
   "cell_type": "code",
   "execution_count": 17,
   "id": "fc6e973f",
   "metadata": {},
   "outputs": [
    {
     "name": "stdout",
     "output_type": "stream",
     "text": [
      "1    24.0\n",
      "2    24.0\n",
      "3    24.0\n",
      "4     NaN\n",
      "dtype: float64\n"
     ]
    }
   ],
   "source": [
    "s1 = pd.Series(12,index=[1,2,3,4])\n",
    "s2 = pd.Series(12,index=[1,2,3])\n",
    "print(s1+s2)"
   ]
  },
  {
   "cell_type": "code",
   "execution_count": null,
   "id": "cb302f01",
   "metadata": {},
   "outputs": [],
   "source": []
  }
 ],
 "metadata": {
  "kernelspec": {
   "display_name": "Python 3 (ipykernel)",
   "language": "python",
   "name": "python3"
  },
  "language_info": {
   "codemirror_mode": {
    "name": "ipython",
    "version": 3
   },
   "file_extension": ".py",
   "mimetype": "text/x-python",
   "name": "python",
   "nbconvert_exporter": "python",
   "pygments_lexer": "ipython3",
   "version": "3.11.7"
  }
 },
 "nbformat": 4,
 "nbformat_minor": 5
}
