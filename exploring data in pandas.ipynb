{
 "cells": [
  {
   "cell_type": "markdown",
   "id": "c2b9e021",
   "metadata": {},
   "source": [
    "# Exploring data in pandas"
   ]
  },
  {
   "cell_type": "code",
   "execution_count": 2,
   "id": "883ad3c9",
   "metadata": {},
   "outputs": [
    {
     "name": "stdout",
     "output_type": "stream",
     "text": [
      "   id first_name last_name                            email      gender  \\\n",
      "0   1    Marleen   Bullard          mbullard0@bigcartel.com      Female   \n",
      "1   2     Ancell  Matyugin         amatyugin1@imageshack.us        Male   \n",
      "2   3     Lynsey    Gawkes  lgawkes2@scientificamerican.com      Female   \n",
      "3   4   Tomasina    Faiers         tfaiers3@statcounter.com      Female   \n",
      "4   5      Dante     Ector              dector4@webnode.com        Male   \n",
      "5   6   Stephani     Sisse               ssisse5@toplist.cz      Female   \n",
      "6   7     Newton     Cargo                  ncargo6@last.fm        Male   \n",
      "7   8   Whitaker  Reinbech            wreinbech7@senate.gov        Male   \n",
      "8   9      Roddy    Hasker         rhasker8@tripadvisor.com        Male   \n",
      "9  10     Yorker      Wake                ywake9@senate.gov  Polygender   \n",
      "\n",
      "        ip_address  \n",
      "0     59.69.139.18  \n",
      "1  123.210.123.106  \n",
      "2    82.39.239.166  \n",
      "3     159.34.24.98  \n",
      "4    42.62.215.167  \n",
      "5    25.72.204.119  \n",
      "6   48.105.106.220  \n",
      "7    227.92.32.241  \n",
      "8      67.48.55.94  \n",
      "9    116.160.246.3  \n"
     ]
    }
   ],
   "source": [
    "import pandas as pd\n",
    "data = pd.read_excel(\"employee.xlsx\")\n",
    "print(data.head(10)) #Show mw the first 10 data"
   ]
  },
  {
   "cell_type": "code",
   "execution_count": 3,
   "id": "39e29378",
   "metadata": {},
   "outputs": [
    {
     "name": "stdout",
     "output_type": "stream",
     "text": [
      "       id first_name  last_name                        email      gender  \\\n",
      "990   991     Sollie  Hankinson        shankinsonri@gmpg.org        Male   \n",
      "991   992    Gaylene   Curedale    gcuredalerj@geocities.com      Female   \n",
      "992   993     Delora      McNea  dmcneark@washingtonpost.com      Female   \n",
      "993   994     Evonne      Dykas            edykasrl@blog.com  Polygender   \n",
      "994   995       Gena     Golley   ggolleyrm@miitbeian.gov.cn      Female   \n",
      "995   996     Merwin  Scotchmur     mscotchmurrn@answers.com        Male   \n",
      "996   997      Pauly     Tudgay        ptudgayro@weather.com        Male   \n",
      "997   998     Winona   Penvarne         wpenvarnerp@hibu.com      Female   \n",
      "998   999      Derek   Haggarty        dhaggartyrq@google.pl        Male   \n",
      "999  1000       Otes   Larkings    olarkingsrr@economist.com        Male   \n",
      "\n",
      "          ip_address  \n",
      "990      63.67.65.78  \n",
      "991    28.90.192.144  \n",
      "992     112.50.27.49  \n",
      "993   179.65.190.144  \n",
      "994   28.137.215.241  \n",
      "995   145.131.74.174  \n",
      "996   129.94.235.143  \n",
      "997    43.111.57.233  \n",
      "998    69.12.108.147  \n",
      "999  240.127.198.136  \n"
     ]
    }
   ],
   "source": [
    "print(data.tail(10)) #Show mw the last 10 data"
   ]
  },
  {
   "cell_type": "code",
   "execution_count": 5,
   "id": "d48e1f66",
   "metadata": {},
   "outputs": [
    {
     "name": "stdout",
     "output_type": "stream",
     "text": [
      "<class 'pandas.core.frame.DataFrame'>\n",
      "RangeIndex: 1000 entries, 0 to 999\n",
      "Data columns (total 6 columns):\n",
      " #   Column      Non-Null Count  Dtype \n",
      "---  ------      --------------  ----- \n",
      " 0   id          1000 non-null   int64 \n",
      " 1   first_name  1000 non-null   object\n",
      " 2   last_name   1000 non-null   object\n",
      " 3   email       1000 non-null   object\n",
      " 4   gender      1000 non-null   object\n",
      " 5   ip_address  1000 non-null   object\n",
      "dtypes: int64(1), object(5)\n",
      "memory usage: 47.0+ KB\n",
      "None\n"
     ]
    }
   ],
   "source": [
    "print(data.info()) #Show me the all information of data "
   ]
  },
  {
   "cell_type": "code",
   "execution_count": 6,
   "id": "d5d704e5",
   "metadata": {},
   "outputs": [
    {
     "name": "stdout",
     "output_type": "stream",
     "text": [
      "                id\n",
      "count  1000.000000\n",
      "mean    500.500000\n",
      "std     288.819436\n",
      "min       1.000000\n",
      "25%     250.750000\n",
      "50%     500.500000\n",
      "75%     750.250000\n",
      "max    1000.000000\n"
     ]
    }
   ],
   "source": [
    "print(data.describe()) #It gives me the all statistical data "
   ]
  },
  {
   "cell_type": "code",
   "execution_count": 8,
   "id": "158028a6",
   "metadata": {},
   "outputs": [
    {
     "name": "stdout",
     "output_type": "stream",
     "text": [
      "id            0\n",
      "first_name    0\n",
      "last_name     0\n",
      "email         0\n",
      "gender        0\n",
      "ip_address    0\n",
      "dtype: int64\n"
     ]
    }
   ],
   "source": [
    "print(data.isnull().sum()) #Show me columnwise where data is null or not filled "
   ]
  },
  {
   "cell_type": "code",
   "execution_count": null,
   "id": "212d5ae8",
   "metadata": {},
   "outputs": [],
   "source": []
  }
 ],
 "metadata": {
  "kernelspec": {
   "display_name": "Python 3 (ipykernel)",
   "language": "python",
   "name": "python3"
  },
  "language_info": {
   "codemirror_mode": {
    "name": "ipython",
    "version": 3
   },
   "file_extension": ".py",
   "mimetype": "text/x-python",
   "name": "python",
   "nbconvert_exporter": "python",
   "pygments_lexer": "ipython3",
   "version": "3.11.7"
  }
 },
 "nbformat": 4,
 "nbformat_minor": 5
}
