{
 "cells": [
  {
   "cell_type": "markdown",
   "id": "2439b958",
   "metadata": {},
   "source": [
    "# Handle duplicate values"
   ]
  },
  {
   "cell_type": "code",
   "execution_count": 13,
   "id": "aba1a979",
   "metadata": {},
   "outputs": [
    {
     "data": {
      "text/html": [
       "<div>\n",
       "<style scoped>\n",
       "    .dataframe tbody tr th:only-of-type {\n",
       "        vertical-align: middle;\n",
       "    }\n",
       "\n",
       "    .dataframe tbody tr th {\n",
       "        vertical-align: top;\n",
       "    }\n",
       "\n",
       "    .dataframe thead th {\n",
       "        text-align: right;\n",
       "    }\n",
       "</style>\n",
       "<table border=\"1\" class=\"dataframe\">\n",
       "  <thead>\n",
       "    <tr style=\"text-align: right;\">\n",
       "      <th></th>\n",
       "      <th>id</th>\n",
       "      <th>firstname</th>\n",
       "      <th>lastname</th>\n",
       "      <th>email</th>\n",
       "      <th>email2</th>\n",
       "      <th>profession</th>\n",
       "    </tr>\n",
       "  </thead>\n",
       "  <tbody>\n",
       "    <tr>\n",
       "      <th>0</th>\n",
       "      <td>100</td>\n",
       "      <td>Laurene</td>\n",
       "      <td>Tamar</td>\n",
       "      <td>Laurene.Tamar@yopmail.com</td>\n",
       "      <td>Laurene.Tamar@gmail.com</td>\n",
       "      <td>developer</td>\n",
       "    </tr>\n",
       "    <tr>\n",
       "      <th>1</th>\n",
       "      <td>101</td>\n",
       "      <td>Sara-Ann</td>\n",
       "      <td>Oster</td>\n",
       "      <td>Sara-Ann.Oster@yopmail.com</td>\n",
       "      <td>Sara-Ann.Oster@gmail.com</td>\n",
       "      <td>doctor</td>\n",
       "    </tr>\n",
       "    <tr>\n",
       "      <th>2</th>\n",
       "      <td>102</td>\n",
       "      <td>Dulcinea</td>\n",
       "      <td>Sikorski</td>\n",
       "      <td>Dulcinea.Sikorski@yopmail.com</td>\n",
       "      <td>Dulcinea.Sikorski@gmail.com</td>\n",
       "      <td>doctor</td>\n",
       "    </tr>\n",
       "    <tr>\n",
       "      <th>3</th>\n",
       "      <td>103</td>\n",
       "      <td>Candy</td>\n",
       "      <td>Geffner</td>\n",
       "      <td>Candy.Geffner@yopmail.com</td>\n",
       "      <td>Candy.Geffner@gmail.com</td>\n",
       "      <td>worker</td>\n",
       "    </tr>\n",
       "    <tr>\n",
       "      <th>4</th>\n",
       "      <td>104</td>\n",
       "      <td>Arlina</td>\n",
       "      <td>Hamil</td>\n",
       "      <td>Arlina.Hamil@yopmail.com</td>\n",
       "      <td>Arlina.Hamil@gmail.com</td>\n",
       "      <td>developer</td>\n",
       "    </tr>\n",
       "    <tr>\n",
       "      <th>...</th>\n",
       "      <td>...</td>\n",
       "      <td>...</td>\n",
       "      <td>...</td>\n",
       "      <td>...</td>\n",
       "      <td>...</td>\n",
       "      <td>...</td>\n",
       "    </tr>\n",
       "    <tr>\n",
       "      <th>996</th>\n",
       "      <td>1096</td>\n",
       "      <td>Cassondra</td>\n",
       "      <td>Shanley</td>\n",
       "      <td>Cassondra.Shanley@yopmail.com</td>\n",
       "      <td>Cassondra.Shanley@gmail.com</td>\n",
       "      <td>worker</td>\n",
       "    </tr>\n",
       "    <tr>\n",
       "      <th>997</th>\n",
       "      <td>1097</td>\n",
       "      <td>Wanda</td>\n",
       "      <td>Kress</td>\n",
       "      <td>Wanda.Kress@yopmail.com</td>\n",
       "      <td>Wanda.Kress@gmail.com</td>\n",
       "      <td>police officer</td>\n",
       "    </tr>\n",
       "    <tr>\n",
       "      <th>998</th>\n",
       "      <td>1098</td>\n",
       "      <td>Shaylyn</td>\n",
       "      <td>Urias</td>\n",
       "      <td>Shaylyn.Urias@yopmail.com</td>\n",
       "      <td>Shaylyn.Urias@gmail.com</td>\n",
       "      <td>firefighter</td>\n",
       "    </tr>\n",
       "    <tr>\n",
       "      <th>999</th>\n",
       "      <td>1099</td>\n",
       "      <td>Kirstin</td>\n",
       "      <td>Gualtiero</td>\n",
       "      <td>Kirstin.Gualtiero@yopmail.com</td>\n",
       "      <td>Kirstin.Gualtiero@gmail.com</td>\n",
       "      <td>police officer</td>\n",
       "    </tr>\n",
       "    <tr>\n",
       "      <th>1000</th>\n",
       "      <td>1099</td>\n",
       "      <td>Kirstin</td>\n",
       "      <td>Gualtiero</td>\n",
       "      <td>Kirstin.Gualtiero@yopmail.com</td>\n",
       "      <td>Kirstin.Gualtiero@gmail.com</td>\n",
       "      <td>police officer</td>\n",
       "    </tr>\n",
       "  </tbody>\n",
       "</table>\n",
       "<p>1001 rows × 6 columns</p>\n",
       "</div>"
      ],
      "text/plain": [
       "        id  firstname   lastname                          email  \\\n",
       "0      100    Laurene      Tamar      Laurene.Tamar@yopmail.com   \n",
       "1      101   Sara-Ann      Oster     Sara-Ann.Oster@yopmail.com   \n",
       "2      102   Dulcinea   Sikorski  Dulcinea.Sikorski@yopmail.com   \n",
       "3      103      Candy    Geffner      Candy.Geffner@yopmail.com   \n",
       "4      104     Arlina      Hamil       Arlina.Hamil@yopmail.com   \n",
       "...    ...        ...        ...                            ...   \n",
       "996   1096  Cassondra    Shanley  Cassondra.Shanley@yopmail.com   \n",
       "997   1097      Wanda      Kress        Wanda.Kress@yopmail.com   \n",
       "998   1098    Shaylyn      Urias      Shaylyn.Urias@yopmail.com   \n",
       "999   1099    Kirstin  Gualtiero  Kirstin.Gualtiero@yopmail.com   \n",
       "1000  1099    Kirstin  Gualtiero  Kirstin.Gualtiero@yopmail.com   \n",
       "\n",
       "                           email2      profession  \n",
       "0         Laurene.Tamar@gmail.com       developer  \n",
       "1        Sara-Ann.Oster@gmail.com          doctor  \n",
       "2     Dulcinea.Sikorski@gmail.com          doctor  \n",
       "3         Candy.Geffner@gmail.com          worker  \n",
       "4          Arlina.Hamil@gmail.com       developer  \n",
       "...                           ...             ...  \n",
       "996   Cassondra.Shanley@gmail.com          worker  \n",
       "997         Wanda.Kress@gmail.com  police officer  \n",
       "998       Shaylyn.Urias@gmail.com     firefighter  \n",
       "999   Kirstin.Gualtiero@gmail.com  police officer  \n",
       "1000  Kirstin.Gualtiero@gmail.com  police officer  \n",
       "\n",
       "[1001 rows x 6 columns]"
      ]
     },
     "execution_count": 13,
     "metadata": {},
     "output_type": "execute_result"
    }
   ],
   "source": [
    "import pandas as pd\n",
    "data = pd.read_csv(\"customer.csv\")\n",
    "data"
   ]
  },
  {
   "cell_type": "code",
   "execution_count": 14,
   "id": "4929511c",
   "metadata": {},
   "outputs": [
    {
     "name": "stdout",
     "output_type": "stream",
     "text": [
      "0       False\n",
      "1       False\n",
      "2       False\n",
      "3       False\n",
      "4       False\n",
      "        ...  \n",
      "996     False\n",
      "997     False\n",
      "998     False\n",
      "999     False\n",
      "1000     True\n",
      "Length: 1001, dtype: bool\n"
     ]
    }
   ],
   "source": [
    "print(data.duplicated()) #Show mw the duplicate value"
   ]
  },
  {
   "cell_type": "code",
   "execution_count": 15,
   "id": "c3b2f843",
   "metadata": {},
   "outputs": [
    {
     "name": "stdout",
     "output_type": "stream",
     "text": [
      "1\n"
     ]
    }
   ],
   "source": [
    "print(data[\"id\"].duplicated().sum()) #Show mw the no of duplicate value"
   ]
  },
  {
   "cell_type": "code",
   "execution_count": 16,
   "id": "14cb9fcc",
   "metadata": {},
   "outputs": [
    {
     "name": "stdout",
     "output_type": "stream",
     "text": [
      "       id  firstname   lastname                          email  \\\n",
      "0     100    Laurene      Tamar      Laurene.Tamar@yopmail.com   \n",
      "1     101   Sara-Ann      Oster     Sara-Ann.Oster@yopmail.com   \n",
      "2     102   Dulcinea   Sikorski  Dulcinea.Sikorski@yopmail.com   \n",
      "3     103      Candy    Geffner      Candy.Geffner@yopmail.com   \n",
      "4     104     Arlina      Hamil       Arlina.Hamil@yopmail.com   \n",
      "..    ...        ...        ...                            ...   \n",
      "995  1095     Joelly   Sidonius    Joelly.Sidonius@yopmail.com   \n",
      "996  1096  Cassondra    Shanley  Cassondra.Shanley@yopmail.com   \n",
      "997  1097      Wanda      Kress        Wanda.Kress@yopmail.com   \n",
      "998  1098    Shaylyn      Urias      Shaylyn.Urias@yopmail.com   \n",
      "999  1099    Kirstin  Gualtiero  Kirstin.Gualtiero@yopmail.com   \n",
      "\n",
      "                          email2      profession  \n",
      "0        Laurene.Tamar@gmail.com       developer  \n",
      "1       Sara-Ann.Oster@gmail.com          doctor  \n",
      "2    Dulcinea.Sikorski@gmail.com          doctor  \n",
      "3        Candy.Geffner@gmail.com          worker  \n",
      "4         Arlina.Hamil@gmail.com       developer  \n",
      "..                           ...             ...  \n",
      "995    Joelly.Sidonius@gmail.com          worker  \n",
      "996  Cassondra.Shanley@gmail.com          worker  \n",
      "997        Wanda.Kress@gmail.com  police officer  \n",
      "998      Shaylyn.Urias@gmail.com     firefighter  \n",
      "999  Kirstin.Gualtiero@gmail.com  police officer  \n",
      "\n",
      "[1000 rows x 6 columns]\n"
     ]
    }
   ],
   "source": [
    "print(data.drop_duplicates(\"id\")) #It drops all the duplicate id"
   ]
  },
  {
   "cell_type": "code",
   "execution_count": null,
   "id": "337b29d9",
   "metadata": {},
   "outputs": [],
   "source": []
  }
 ],
 "metadata": {
  "kernelspec": {
   "display_name": "Python 3 (ipykernel)",
   "language": "python",
   "name": "python3"
  },
  "language_info": {
   "codemirror_mode": {
    "name": "ipython",
    "version": 3
   },
   "file_extension": ".py",
   "mimetype": "text/x-python",
   "name": "python",
   "nbconvert_exporter": "python",
   "pygments_lexer": "ipython3",
   "version": "3.11.7"
  }
 },
 "nbformat": 4,
 "nbformat_minor": 5
}
